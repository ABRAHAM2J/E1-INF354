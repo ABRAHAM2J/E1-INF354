{
 "cells": [
  {
   "cell_type": "markdown",
   "metadata": {},
   "source": [
    "**2. Realice lo mismo del inciso anterior con el uso de numpy y pandas**"
   ]
  },
  {
   "cell_type": "code",
   "execution_count": 1,
   "metadata": {},
   "outputs": [
    {
     "data": {
      "text/html": [
       "<div>\n",
       "<style scoped>\n",
       "    .dataframe tbody tr th:only-of-type {\n",
       "        vertical-align: middle;\n",
       "    }\n",
       "\n",
       "    .dataframe tbody tr th {\n",
       "        vertical-align: top;\n",
       "    }\n",
       "\n",
       "    .dataframe thead th {\n",
       "        text-align: right;\n",
       "    }\n",
       "</style>\n",
       "<table border=\"1\" class=\"dataframe\">\n",
       "  <thead>\n",
       "    <tr style=\"text-align: right;\">\n",
       "      <th></th>\n",
       "      <th>age</th>\n",
       "      <th>job</th>\n",
       "      <th>marital</th>\n",
       "      <th>education</th>\n",
       "      <th>default</th>\n",
       "      <th>balance</th>\n",
       "      <th>housing</th>\n",
       "      <th>loan</th>\n",
       "      <th>contact</th>\n",
       "      <th>day</th>\n",
       "      <th>month</th>\n",
       "      <th>duration</th>\n",
       "      <th>campaign</th>\n",
       "      <th>pdays</th>\n",
       "      <th>previous</th>\n",
       "      <th>poutcome</th>\n",
       "      <th>deposit</th>\n",
       "    </tr>\n",
       "  </thead>\n",
       "  <tbody>\n",
       "    <tr>\n",
       "      <th>0</th>\n",
       "      <td>59.0</td>\n",
       "      <td>admin.</td>\n",
       "      <td>married</td>\n",
       "      <td>secondary</td>\n",
       "      <td>no</td>\n",
       "      <td>2343.0</td>\n",
       "      <td>yes</td>\n",
       "      <td>no</td>\n",
       "      <td>unknown</td>\n",
       "      <td>5.0</td>\n",
       "      <td>may</td>\n",
       "      <td>1042.0</td>\n",
       "      <td>1</td>\n",
       "      <td>-1</td>\n",
       "      <td>0</td>\n",
       "      <td>unknown</td>\n",
       "      <td>yes</td>\n",
       "    </tr>\n",
       "    <tr>\n",
       "      <th>1</th>\n",
       "      <td>56.0</td>\n",
       "      <td>admin.</td>\n",
       "      <td>married</td>\n",
       "      <td>secondary</td>\n",
       "      <td>no</td>\n",
       "      <td>45.0</td>\n",
       "      <td>no</td>\n",
       "      <td>no</td>\n",
       "      <td>unknown</td>\n",
       "      <td>5.0</td>\n",
       "      <td>may</td>\n",
       "      <td>1467.0</td>\n",
       "      <td>1</td>\n",
       "      <td>-1</td>\n",
       "      <td>0</td>\n",
       "      <td>unknown</td>\n",
       "      <td>yes</td>\n",
       "    </tr>\n",
       "    <tr>\n",
       "      <th>2</th>\n",
       "      <td>41.0</td>\n",
       "      <td>technician</td>\n",
       "      <td>married</td>\n",
       "      <td>secondary</td>\n",
       "      <td>no</td>\n",
       "      <td>1270.0</td>\n",
       "      <td>yes</td>\n",
       "      <td>no</td>\n",
       "      <td>unknown</td>\n",
       "      <td>5.0</td>\n",
       "      <td>may</td>\n",
       "      <td>1389.0</td>\n",
       "      <td>1</td>\n",
       "      <td>-1</td>\n",
       "      <td>0</td>\n",
       "      <td>unknown</td>\n",
       "      <td>yes</td>\n",
       "    </tr>\n",
       "    <tr>\n",
       "      <th>3</th>\n",
       "      <td>55.0</td>\n",
       "      <td>services</td>\n",
       "      <td>married</td>\n",
       "      <td>secondary</td>\n",
       "      <td>no</td>\n",
       "      <td>2476.0</td>\n",
       "      <td>yes</td>\n",
       "      <td>no</td>\n",
       "      <td>unknown</td>\n",
       "      <td>5.0</td>\n",
       "      <td>may</td>\n",
       "      <td>579.0</td>\n",
       "      <td>1</td>\n",
       "      <td>-1</td>\n",
       "      <td>0</td>\n",
       "      <td>unknown</td>\n",
       "      <td>yes</td>\n",
       "    </tr>\n",
       "    <tr>\n",
       "      <th>4</th>\n",
       "      <td>NaN</td>\n",
       "      <td>admin.</td>\n",
       "      <td>married</td>\n",
       "      <td>tertiary</td>\n",
       "      <td>no</td>\n",
       "      <td>NaN</td>\n",
       "      <td>no</td>\n",
       "      <td>no</td>\n",
       "      <td>unknown</td>\n",
       "      <td>5.0</td>\n",
       "      <td>may</td>\n",
       "      <td>673.0</td>\n",
       "      <td>2</td>\n",
       "      <td>-1</td>\n",
       "      <td>0</td>\n",
       "      <td>unknown</td>\n",
       "      <td>yes</td>\n",
       "    </tr>\n",
       "  </tbody>\n",
       "</table>\n",
       "</div>"
      ],
      "text/plain": [
       "    age         job  marital  education default  balance housing loan  \\\n",
       "0  59.0      admin.  married  secondary      no   2343.0     yes   no   \n",
       "1  56.0      admin.  married  secondary      no     45.0      no   no   \n",
       "2  41.0  technician  married  secondary      no   1270.0     yes   no   \n",
       "3  55.0    services  married  secondary      no   2476.0     yes   no   \n",
       "4   NaN      admin.  married   tertiary      no      NaN      no   no   \n",
       "\n",
       "   contact  day month  duration  campaign  pdays  previous poutcome deposit  \n",
       "0  unknown  5.0   may    1042.0         1     -1         0  unknown     yes  \n",
       "1  unknown  5.0   may    1467.0         1     -1         0  unknown     yes  \n",
       "2  unknown  5.0   may    1389.0         1     -1         0  unknown     yes  \n",
       "3  unknown  5.0   may     579.0         1     -1         0  unknown     yes  \n",
       "4  unknown  5.0   may     673.0         2     -1         0  unknown     yes  "
      ]
     },
     "execution_count": 1,
     "metadata": {},
     "output_type": "execute_result"
    }
   ],
   "source": [
    "import pandas as pd\n",
    "dat = pd.read_csv(\"./bank.csv\")\n",
    "dat.head()"
   ]
  },
  {
   "cell_type": "code",
   "execution_count": 2,
   "metadata": {},
   "outputs": [],
   "source": [
    "columnas_seleccionadas = dat.iloc[:, [0, 5, 9, 11, 12, 13, 14]]\n",
    "datos = columnas_seleccionadas.to_numpy()"
   ]
  },
  {
   "cell_type": "markdown",
   "metadata": {},
   "source": [
    "# **Pandas**"
   ]
  },
  {
   "cell_type": "code",
   "execution_count": 3,
   "metadata": {},
   "outputs": [],
   "source": [
    "import pandas as pd\n",
    "num_cols = dat.iloc[:, [0, 5, 9, 11, 12, 13, 14]]\n",
    "medias = num_cols.mean()\n",
    "moda = num_cols.mode().iloc[0]\n",
    "\n",
    "q1 = num_cols.quantile(0.25)\n",
    "q2 = num_cols.quantile(0.50)\n",
    "q3 = num_cols.quantile(0.75)\n",
    "\n",
    "p25 = num_cols.quantile(0.10, interpolation='nearest')\n",
    "p75 = num_cols.quantile(0.90, interpolation='nearest')\n"
   ]
  },
  {
   "cell_type": "markdown",
   "metadata": {},
   "source": [
    "# Media con Pandas"
   ]
  },
  {
   "cell_type": "code",
   "execution_count": 4,
   "metadata": {},
   "outputs": [
    {
     "name": "stdout",
     "output_type": "stream",
     "text": [
      "\tMEDIA\n",
      "age           41.233306\n",
      "balance     1529.332288\n",
      "day           15.656841\n",
      "duration     371.996954\n",
      "campaign       2.508421\n",
      "pdays         51.330407\n",
      "previous       0.832557\n",
      "dtype: float64\n"
     ]
    }
   ],
   "source": [
    "# media\n",
    "print('\\tMEDIA')\n",
    "print(medias)"
   ]
  },
  {
   "cell_type": "markdown",
   "metadata": {},
   "source": [
    "# Moda con Pandas"
   ]
  },
  {
   "cell_type": "code",
   "execution_count": 5,
   "metadata": {},
   "outputs": [
    {
     "name": "stdout",
     "output_type": "stream",
     "text": [
      "\tMODA\n",
      "age         31.0\n",
      "balance      0.0\n",
      "day         20.0\n",
      "duration    97.0\n",
      "campaign     1.0\n",
      "pdays       -1.0\n",
      "previous     0.0\n",
      "Name: 0, dtype: float64\n"
     ]
    }
   ],
   "source": [
    "# moda\n",
    "print('\\tMODA')\n",
    "print(moda)"
   ]
  },
  {
   "cell_type": "markdown",
   "metadata": {},
   "source": [
    "# Cuartil con Pandas"
   ]
  },
  {
   "cell_type": "code",
   "execution_count": 6,
   "metadata": {},
   "outputs": [
    {
     "name": "stdout",
     "output_type": "stream",
     "text": [
      "\tCUARTIL\n",
      "age          32.0\n",
      "balance     123.0\n",
      "day           8.0\n",
      "duration    138.0\n",
      "campaign      1.0\n",
      "pdays        -1.0\n",
      "previous      0.0\n",
      "Name: 0.25, dtype: float64\n",
      "----------------------------------------\n",
      "age          39.0\n",
      "balance     551.0\n",
      "day          15.0\n",
      "duration    255.0\n",
      "campaign      2.0\n",
      "pdays        -1.0\n",
      "previous      0.0\n",
      "Name: 0.5, dtype: float64\n",
      "----------------------------------------\n",
      "age           49.00\n",
      "balance     1709.25\n",
      "day           22.00\n",
      "duration     496.00\n",
      "campaign       3.00\n",
      "pdays         20.75\n",
      "previous       1.00\n",
      "Name: 0.75, dtype: float64\n"
     ]
    }
   ],
   "source": [
    "# cuartil\n",
    "print('\\tCUARTIL')\n",
    "print(q1)\n",
    "print(40*'-')\n",
    "print(q2)\n",
    "print(40*'-')\n",
    "print(q3)"
   ]
  },
  {
   "cell_type": "markdown",
   "metadata": {},
   "source": [
    "# Percentil con Pandas"
   ]
  },
  {
   "cell_type": "code",
   "execution_count": 7,
   "metadata": {},
   "outputs": [
    {
     "name": "stdout",
     "output_type": "stream",
     "text": [
      "\tPERCENTIL\n",
      "age         28.0\n",
      "balance      0.0\n",
      "day          4.0\n",
      "duration    77.0\n",
      "campaign     1.0\n",
      "pdays       -1.0\n",
      "previous     0.0\n",
      "Name: 0.1, dtype: float64\n",
      "----------------------------------------\n",
      "age           58.0\n",
      "balance     3902.0\n",
      "day           28.0\n",
      "duration     838.0\n",
      "campaign       5.0\n",
      "pdays        191.0\n",
      "previous       3.0\n",
      "Name: 0.9, dtype: float64\n"
     ]
    }
   ],
   "source": [
    "# percentil\n",
    "print('\\tPERCENTIL')\n",
    "print(p25)\n",
    "print(40*'-')\n",
    "print(p75)"
   ]
  },
  {
   "cell_type": "markdown",
   "metadata": {},
   "source": [
    "# **Numpy**"
   ]
  },
  {
   "cell_type": "code",
   "execution_count": 8,
   "metadata": {},
   "outputs": [],
   "source": [
    "from scipy import stats\n",
    "import numpy as np\n",
    "\n",
    "nombre_colum = ['age', 'balance', 'day', 'duration', 'campaign', 'pdays', 'previous']\n",
    "\n"
   ]
  },
  {
   "cell_type": "markdown",
   "metadata": {},
   "source": [
    "# Media con Numpy"
   ]
  },
  {
   "cell_type": "code",
   "execution_count": 9,
   "metadata": {},
   "outputs": [
    {
     "name": "stdout",
     "output_type": "stream",
     "text": [
      "age      : 41.233306 \n",
      "balance  : 1529.332288\n",
      "day      : 15.656841 \n",
      "duration : 371.996954\n",
      "campaign : 2.508421  \n",
      "pdays    : 51.330407 \n",
      "previous : 0.832557  \n"
     ]
    }
   ],
   "source": [
    "med = np.nanmean(datos, axis=0)\n",
    "\n",
    "max_longitud = max(len(nombre) for nombre in nombre_colum)\n",
    "for i in range(7):\n",
    "    formato = \"{{:<{}}} : {{:<10.6f}}\".format(max_longitud)\n",
    "    print(formato.format(nombre_colum[i], med[i]))"
   ]
  },
  {
   "cell_type": "markdown",
   "metadata": {},
   "source": [
    "# Moda con Numpy"
   ]
  },
  {
   "cell_type": "code",
   "execution_count": 10,
   "metadata": {},
   "outputs": [
    {
     "name": "stdout",
     "output_type": "stream",
     "text": [
      "age      : 31.00     \n",
      "balance  : 0.00      \n",
      "day      : 20.00     \n",
      "duration : 97.00     \n",
      "campaign : 1.00      \n",
      "pdays    : -1.00     \n",
      "previous : 0.00      \n"
     ]
    }
   ],
   "source": [
    "mod = stats.mode(datos, axis=0, nan_policy='omit')\n",
    "\n",
    "max_longitud = max(len(nombre) for nombre in nombre_colum)\n",
    "for i in range(len(mod[0])):\n",
    "    formato = \"{{:<{}}} : {{:<10.2f}}\".format(max_longitud)\n",
    "    print(formato.format(nombre_colum[i], mod[0][i]))"
   ]
  },
  {
   "cell_type": "markdown",
   "metadata": {},
   "source": [
    "# Cuartiles con Numpy"
   ]
  },
  {
   "cell_type": "code",
   "execution_count": 11,
   "metadata": {},
   "outputs": [
    {
     "name": "stdout",
     "output_type": "stream",
     "text": [
      "age\n",
      "   Q1: 32.0\n",
      "   Q2: 39.0\n",
      "   Q3: 49.0\n",
      "\n",
      "balance\n",
      "   Q1: 123.0\n",
      "   Q2: 551.0\n",
      "   Q3: 1709.25\n",
      "\n",
      "day\n",
      "   Q1: 8.0\n",
      "   Q2: 15.0\n",
      "   Q3: 22.0\n",
      "\n",
      "duration\n",
      "   Q1: 138.0\n",
      "   Q2: 255.0\n",
      "   Q3: 496.0\n",
      "\n",
      "campaign\n",
      "   Q1: 1.0\n",
      "   Q2: 2.0\n",
      "   Q3: 3.0\n",
      "\n",
      "pdays\n",
      "   Q1: -1.0\n",
      "   Q2: -1.0\n",
      "   Q3: 20.75\n",
      "\n",
      "previous\n",
      "   Q1: 0.0\n",
      "   Q2: 0.0\n",
      "   Q3: 1.0\n",
      "\n"
     ]
    }
   ],
   "source": [
    "cuartil = np.nanpercentile(datos, [25, 50, 75], axis=0)\n",
    "for i in range(7):\n",
    "    print(nombre_colum[i])\n",
    "    print(\"   Q1: \" + str(cuartil[0][i]))\n",
    "    print(\"   Q2: \" + str(cuartil[1][i]))\n",
    "    print(\"   Q3: \" + str(cuartil[2][i]) + \"\\n\")"
   ]
  },
  {
   "cell_type": "markdown",
   "metadata": {},
   "source": [
    "# Percentil con Numpy"
   ]
  },
  {
   "cell_type": "code",
   "execution_count": 12,
   "metadata": {},
   "outputs": [
    {
     "name": "stdout",
     "output_type": "stream",
     "text": [
      "age\n",
      "   P10: 28.0\n",
      "   P90: 58.0\n",
      "\n",
      "balance\n",
      "   P10: 0.0\n",
      "   P90: 3900.5\n",
      "\n",
      "day\n",
      "   P10: 4.0\n",
      "   P90: 28.0\n",
      "\n",
      "duration\n",
      "   P10: 77.0\n",
      "   P90: 838.0\n",
      "\n",
      "campaign\n",
      "   P10: 1.0\n",
      "   P90: 5.0\n",
      "\n",
      "pdays\n",
      "   P10: -1.0\n",
      "   P90: 191.0\n",
      "\n",
      "previous\n",
      "   P10: 0.0\n",
      "   P90: 3.0\n",
      "\n"
     ]
    }
   ],
   "source": [
    "percentil = np.nanpercentile(datos, [10, 90], axis=0)\n",
    "div = [10, 90]\n",
    "for i in range(7):\n",
    "    print(nombre_colum[i])\n",
    "    for j in range(len(div)):\n",
    "        print(f\"   P{div[j]}: \" + str(percentil[j][i]))    \n",
    "    print()"
   ]
  }
 ],
 "metadata": {
  "kernelspec": {
   "display_name": "Python 3",
   "language": "python",
   "name": "python3"
  },
  "language_info": {
   "codemirror_mode": {
    "name": "ipython",
    "version": 3
   },
   "file_extension": ".py",
   "mimetype": "text/x-python",
   "name": "python",
   "nbconvert_exporter": "python",
   "pygments_lexer": "ipython3",
   "version": "3.11.0"
  }
 },
 "nbformat": 4,
 "nbformat_minor": 2
}
